{
 "cells": [
  {
   "cell_type": "markdown",
   "metadata": {},
   "source": [
    "## 了解网页，确定爬取位置\n",
    "- https://www.bilibili.com/bangumi/play/ep96743"
   ]
  },
  {
   "cell_type": "code",
   "execution_count": 1,
   "metadata": {},
   "outputs": [],
   "source": [
    "import requests\n",
    "from bs4 import BeautifulSoup\n",
    "import re           # 导入抓取,解析,正则表达式模块"
   ]
  },
  {
   "cell_type": "markdown",
   "metadata": {},
   "source": [
    "```HTML\n",
    "<span class=\"danmaku-info-danmaku cye-lm-tag\" title=\"这游戏微博上评论emmmmm，蛮坑的\">这游戏微博上评论emmmmm，蛮坑的</span>\n",
    "\n",
    "<span class=\"danmaku-info-danmaku\" title=\"六舅\">六舅</span>\n",
    "```"
   ]
  },
  {
   "cell_type": "code",
   "execution_count": 4,
   "metadata": {},
   "outputs": [
    {
     "name": "stdout",
     "output_type": "stream",
     "text": [
      "status: 200\n",
      "0\n"
     ]
    }
   ],
   "source": [
    "url = \"https://www.bilibili.com/bangumi/play/ss5800/?from=search&seid=11782919643750305548\"\n",
    "# 抓取\n",
    "r = requests.get(url)                             #返回response对象            \n",
    "print(\"status:\",r.status_code)\n",
    "\n",
    "# bs对象\n",
    "soup=BeautifulSoup(r.text,'lxml')                                 # 返回BeautifulSoup对象,对r.text用lxml构造BeautifulSoup对象\n",
    "\n",
    "# 解析\n",
    "pattern_c = soup.find_all('span','danmaku-info-danmaku')                           # 返回ResultSet(Tag)，BeautifulSoup对象find_all标签\n",
    "print(len(pattern_c))\n",
    "\n",
    "ord_c = 1                                                         # 序号\n",
    "for c in pattern_c:\n",
    "#     print('\\t',str(ord_c),c.string)                               # Tag标签的string指文本内容\n",
    "    ord_c += 1"
   ]
  },
  {
   "cell_type": "code",
   "execution_count": null,
   "metadata": {},
   "outputs": [],
   "source": []
  }
 ],
 "metadata": {
  "kernelspec": {
   "display_name": "Python 3",
   "language": "python",
   "name": "python3"
  },
  "language_info": {
   "codemirror_mode": {
    "name": "ipython",
    "version": 3
   },
   "file_extension": ".py",
   "mimetype": "text/x-python",
   "name": "python",
   "nbconvert_exporter": "python",
   "pygments_lexer": "ipython3",
   "version": "3.6.6"
  },
  "toc": {
   "base_numbering": 1,
   "nav_menu": {},
   "number_sections": true,
   "sideBar": true,
   "skip_h1_title": false,
   "title_cell": "Table of Contents",
   "title_sidebar": "Contents",
   "toc_cell": false,
   "toc_position": {},
   "toc_section_display": true,
   "toc_window_display": true
  }
 },
 "nbformat": 4,
 "nbformat_minor": 2
}
